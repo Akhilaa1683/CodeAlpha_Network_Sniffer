{
 "cells": [
  {
   "cell_type": "code",
   "execution_count": 7,
   "id": "0127149b",
   "metadata": {},
   "outputs": [
    {
     "data": {
      "text/plain": [
       "<L3pcapSocket: read/write packets at layer 3 using only libpcap>"
      ]
     },
     "execution_count": 7,
     "metadata": {},
     "output_type": "execute_result"
    }
   ],
   "source": [
    "from scapy.all import sniff,IP,TCP,UDP,ICMP,conf\n",
    "conf.L3socket #import protocols\n"
   ]
  },
  {
   "cell_type": "code",
   "execution_count": 8,
   "id": "454acab3",
   "metadata": {},
   "outputs": [],
   "source": [
    "def packet_handler(packet):\n",
    "    # Check if the packet is an IP packet\n",
    "    if packet.haslayer(IP):\n",
    "        ip_src = packet[IP].src\n",
    "        ip_dst = packet[IP].dst\n",
    "        print(f\"IP Packet: {ip_src} -> {ip_dst}\")\n",
    "    \n",
    "    # Check if the packet has a TCP layer\n",
    "    if packet.haslayer(TCP):\n",
    "        tcp_src_port = packet[TCP].sport\n",
    "        tcp_dst_port = packet[TCP].dport\n",
    "        print(f\"TCP Packet: {tcp_src_port} -> {tcp_dst_port}\")\n",
    "    \n",
    "    # Check if the packet has a UDP layer\n",
    "    if packet.haslayer(UDP):\n",
    "        udp_src_port = packet[UDP].sport\n",
    "        udp_dst_port = packet[UDP].dport\n",
    "        print(f\"UDP Packet: {udp_src_port} -> {udp_dst_port}\")\n",
    "    \n",
    "    # Check if the packet has an ICMP layer\n",
    "    if packet.haslayer(ICMP):\n",
    "        icmp_type = packet[ICMP].type\n",
    "        print(f\"ICMP Packet: Type {icmp_type}\")\n"
   ]
  },
  {
   "cell_type": "code",
   "execution_count": 12,
   "id": "233963f5",
   "metadata": {},
   "outputs": [],
   "source": [
    "def start_sniffing():\n",
    "    print(\"Starting network sniffer...\")\n",
    "    sniff(prn=packet_handler, store=0, count=10)\n",
    "\n",
    "    \n"
   ]
  },
  {
   "cell_type": "code",
   "execution_count": 13,
   "id": "1a8b8af3",
   "metadata": {},
   "outputs": [
    {
     "name": "stdout",
     "output_type": "stream",
     "text": [
      "Starting network sniffer...\n",
      "IP Packet: 192.168.0.103 -> 142.250.195.74\n",
      "UDP Packet: 63369 -> 443\n",
      "IP Packet: 142.250.195.74 -> 192.168.0.103\n",
      "UDP Packet: 443 -> 63369\n",
      "IP Packet: 192.168.0.101 -> 192.168.0.255\n",
      "UDP Packet: 33432 -> 15600\n",
      "IP Packet: 140.82.112.26 -> 192.168.0.103\n",
      "TCP Packet: 443 -> 51135\n",
      "IP Packet: 192.168.0.103 -> 140.82.112.26\n",
      "TCP Packet: 51135 -> 443\n",
      "IP Packet: 140.82.112.26 -> 192.168.0.103\n",
      "TCP Packet: 443 -> 51135\n",
      "IP Packet: 192.168.0.103 -> 49.205.72.130\n",
      "UDP Packet: 55195 -> 53\n",
      "IP Packet: 49.205.72.130 -> 192.168.0.103\n",
      "UDP Packet: 53 -> 55195\n"
     ]
    }
   ],
   "source": [
    "if __name__ == \"__main__\":\n",
    "    start_sniffing()"
   ]
  },
  {
   "cell_type": "code",
   "execution_count": null,
   "id": "84ea7651",
   "metadata": {},
   "outputs": [],
   "source": []
  },
  {
   "cell_type": "code",
   "execution_count": null,
   "id": "a26cc268",
   "metadata": {},
   "outputs": [],
   "source": []
  }
 ],
 "metadata": {
  "kernelspec": {
   "display_name": "Python 3 (ipykernel)",
   "language": "python",
   "name": "python3"
  },
  "language_info": {
   "codemirror_mode": {
    "name": "ipython",
    "version": 3
   },
   "file_extension": ".py",
   "mimetype": "text/x-python",
   "name": "python",
   "nbconvert_exporter": "python",
   "pygments_lexer": "ipython3",
   "version": "3.9.12"
  }
 },
 "nbformat": 4,
 "nbformat_minor": 5
}
